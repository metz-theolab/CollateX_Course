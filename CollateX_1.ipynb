{
 "cells": [
  {
   "cell_type": "markdown",
   "metadata": {
    "id": "aMwgN0pGKlOY"
   },
   "source": [
    "Installation des packages nécessaires à l'exercice"
   ]
  },
  {
   "cell_type": "markdown",
   "metadata": {
    "id": "CJ_AXRDpT6TM"
   },
   "source": []
  },
  {
   "cell_type": "code",
   "execution_count": null,
   "metadata": {
    "colab": {
     "base_uri": "https://localhost:8080/"
    },
    "executionInfo": {
     "elapsed": 11639,
     "status": "ok",
     "timestamp": 1735810106890,
     "user": {
      "displayName": "Frédérique Rey",
      "userId": "07472968409980270201"
     },
     "user_tz": -60
    },
    "id": "Y53EpSOUKb4z",
    "outputId": "a37982eb-7e85-484a-860f-8398b1370a0a"
   },
   "outputs": [],
   "source": [
    "!pip install collatex\n",
    "!pip install levenshtein"
   ]
  },
  {
   "cell_type": "markdown",
   "metadata": {
    "id": "gaZW-NtZT9K7"
   },
   "source": [
    "# Pour celles et ceux qui ont python:\n",
    "## Création d'un environnement virtuel\n",
    "\n",
    "```\n",
    "python3 -m venv venv\n",
    "source venv/bin/activate\n",
    "```\n",
    "\n",
    "## Installation de jupyter et des packages nécessaires\n",
    "```\n",
    "pip install jupyter\n",
    "pip install collatex\n",
    "pip install levenshtein\n",
    "````\n",
    "\n",
    "Lancement du carnet jupyter\n",
    "```\n",
    "jupyter notebook\n",
    "```\n",
    "\n",
    "\n",
    "\n"
   ]
  },
  {
   "cell_type": "markdown",
   "metadata": {
    "id": "LfTV7xC4Kw41"
   },
   "source": [
    "# TP 1\n",
    "\n"
   ]
  },
  {
   "cell_type": "code",
   "execution_count": null,
   "metadata": {
    "colab": {
     "base_uri": "https://localhost:8080/",
     "height": 62
    },
    "executionInfo": {
     "elapsed": 237,
     "status": "ok",
     "timestamp": 1735810143691,
     "user": {
      "displayName": "Frédérique Rey",
      "userId": "07472968409980270201"
     },
     "user_tz": -60
    },
    "id": "C0jj0TL4Vww6",
    "outputId": "c815c8af-69fa-4e81-b97d-5e315c3a5b2e"
   },
   "outputs": [],
   "source": [
    "from collatex import *\n",
    "collation = Collation()\n",
    "collation.add_plain_witness(\"A\", \"The quick brown fox jumps over the dog.\")\n",
    "collation.add_plain_witness(\"B\", \"The brown fox jumps over the lazy dog.\")\n",
    "alignment_table = collate(collation, output=\"html\")"
   ]
  },
  {
   "cell_type": "code",
   "execution_count": null,
   "metadata": {
    "colab": {
     "base_uri": "https://localhost:8080/",
     "height": 165
    },
    "executionInfo": {
     "elapsed": 216,
     "status": "ok",
     "timestamp": 1735810286901,
     "user": {
      "displayName": "Frédérique Rey",
      "userId": "07472968409980270201"
     },
     "user_tz": -60
    },
    "id": "9zK1RAqoWgd8",
    "outputId": "3af9d47c-b7ff-4974-fa53-2b07f69a3d86"
   },
   "outputs": [],
   "source": [
    "alignment_table = collate(collation, output=\"html\", layout=\"vertical\")"
   ]
  }
 ],
 "metadata": {
  "colab": {
   "authorship_tag": "ABX9TyOaBQFiXGnmH/VMCOQmRQ2r",
   "provenance": [],
   "toc_visible": true
  },
  "kernelspec": {
   "display_name": "venv",
   "language": "python",
   "name": "python3"
  },
  "language_info": {
   "codemirror_mode": {
    "name": "ipython",
    "version": 3
   },
   "file_extension": ".py",
   "mimetype": "text/x-python",
   "name": "python",
   "nbconvert_exporter": "python",
   "pygments_lexer": "ipython3",
   "version": "3.13.0"
  }
 },
 "nbformat": 4,
 "nbformat_minor": 0
}
