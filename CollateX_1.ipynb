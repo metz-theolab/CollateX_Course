{
 "cells": [
  {
   "cell_type": "markdown",
   "metadata": {
    "id": "aMwgN0pGKlOY"
   },
   "source": [
    "Installation des packages nécessaires à l'exercice"
   ]
  },
  {
   "cell_type": "markdown",
   "metadata": {
    "id": "CJ_AXRDpT6TM"
   },
   "source": []
  },
  {
   "cell_type": "code",
   "execution_count": 3,
   "metadata": {
    "colab": {
     "base_uri": "https://localhost:8080/"
    },
    "executionInfo": {
     "elapsed": 11639,
     "status": "ok",
     "timestamp": 1735810106890,
     "user": {
      "displayName": "Frédérique Rey",
      "userId": "07472968409980270201"
     },
     "user_tz": -60
    },
    "id": "Y53EpSOUKb4z",
    "outputId": "a37982eb-7e85-484a-860f-8398b1370a0a"
   },
   "outputs": [
    {
     "name": "stdout",
     "output_type": "stream",
     "text": [
      "Requirement already satisfied: collatex in /usr/local/lib/python3.10/dist-packages (2.3)\n",
      "Requirement already satisfied: networkx in /usr/local/lib/python3.10/dist-packages (from collatex) (3.4.2)\n",
      "Requirement already satisfied: prettytable in /usr/local/lib/python3.10/dist-packages (from collatex) (3.12.0)\n",
      "Requirement already satisfied: wcwidth in /usr/local/lib/python3.10/dist-packages (from prettytable->collatex) (0.2.13)\n",
      "Collecting levenshtein\n",
      "  Downloading levenshtein-0.26.1-cp310-cp310-manylinux_2_17_x86_64.manylinux2014_x86_64.whl.metadata (3.2 kB)\n",
      "Collecting rapidfuzz<4.0.0,>=3.9.0 (from levenshtein)\n",
      "  Downloading rapidfuzz-3.11.0-cp310-cp310-manylinux_2_17_x86_64.manylinux2014_x86_64.whl.metadata (11 kB)\n",
      "Downloading levenshtein-0.26.1-cp310-cp310-manylinux_2_17_x86_64.manylinux2014_x86_64.whl (162 kB)\n",
      "\u001b[2K   \u001b[90m━━━━━━━━━━━━━━━━━━━━━━━━━━━━━━━━━━━━━━━━\u001b[0m \u001b[32m162.6/162.6 kB\u001b[0m \u001b[31m5.6 MB/s\u001b[0m eta \u001b[36m0:00:00\u001b[0m\n",
      "\u001b[?25hDownloading rapidfuzz-3.11.0-cp310-cp310-manylinux_2_17_x86_64.manylinux2014_x86_64.whl (3.1 MB)\n",
      "\u001b[2K   \u001b[90m━━━━━━━━━━━━━━━━━━━━━━━━━━━━━━━━━━━━━━━━\u001b[0m \u001b[32m3.1/3.1 MB\u001b[0m \u001b[31m45.2 MB/s\u001b[0m eta \u001b[36m0:00:00\u001b[0m\n",
      "\u001b[?25hInstalling collected packages: rapidfuzz, levenshtein\n",
      "Successfully installed levenshtein-0.26.1 rapidfuzz-3.11.0\n"
     ]
    }
   ],
   "source": [
    "!pip install collatex\n",
    "!pip install levenshtein"
   ]
  },
  {
   "cell_type": "markdown",
   "metadata": {
    "id": "gaZW-NtZT9K7"
   },
   "source": [
    "# Pour celles et ceux qui ont python:\n",
    "## Création d'un environnement virtuel\n",
    "\n",
    "```\n",
    "python3 -m venv venv\n",
    "source venv/bin/activate\n",
    "```\n",
    "\n",
    "## Installation de jupyter et des packages nécessaires\n",
    "```\n",
    "pip install jupyter\n",
    "pip install collatex\n",
    "pip install levenshtein\n",
    "````\n",
    "\n",
    "Lancement du carnet jupyter\n",
    "```\n",
    "jupyter notebook\n",
    "```\n",
    "\n",
    "\n",
    "\n"
   ]
  },
  {
   "cell_type": "markdown",
   "metadata": {
    "id": "LfTV7xC4Kw41"
   },
   "source": [
    "# TP 1\n",
    "\n"
   ]
  },
  {
   "cell_type": "code",
   "execution_count": 1,
   "metadata": {
    "colab": {
     "base_uri": "https://localhost:8080/",
     "height": 62
    },
    "executionInfo": {
     "elapsed": 237,
     "status": "ok",
     "timestamp": 1735810143691,
     "user": {
      "displayName": "Frédérique Rey",
      "userId": "07472968409980270201"
     },
     "user_tz": -60
    },
    "id": "C0jj0TL4Vww6",
    "outputId": "c815c8af-69fa-4e81-b97d-5e315c3a5b2e"
   },
   "outputs": [
    {
     "data": {
      "text/html": [
       "<table>\n",
       "    <tbody>\n",
       "        <tr>\n",
       "            <td>A</td>\n",
       "            <td>The</td>\n",
       "            <td>quick</td>\n",
       "            <td>brown fox jumps over the</td>\n",
       "            <td>-</td>\n",
       "            <td>dog.</td>\n",
       "        </tr>\n",
       "        <tr>\n",
       "            <td>B</td>\n",
       "            <td>The</td>\n",
       "            <td>-</td>\n",
       "            <td>brown fox jumps over the</td>\n",
       "            <td>lazy</td>\n",
       "            <td>dog.</td>\n",
       "        </tr>\n",
       "    </tbody>\n",
       "</table>"
      ],
      "text/plain": [
       "<IPython.core.display.HTML object>"
      ]
     },
     "metadata": {},
     "output_type": "display_data"
    }
   ],
   "source": [
    "from collatex import *\n",
    "collation = Collation()\n",
    "collation.add_plain_witness(\"A\", \"The quick brown fox jumps over the dog.\")\n",
    "collation.add_plain_witness(\"B\", \"The brown fox jumps over the lazy dog.\")\n",
    "alignment_table = collate(collation, output=\"html\")"
   ]
  },
  {
   "cell_type": "code",
   "execution_count": 3,
   "metadata": {
    "colab": {
     "base_uri": "https://localhost:8080/",
     "height": 165
    },
    "executionInfo": {
     "elapsed": 216,
     "status": "ok",
     "timestamp": 1735810286901,
     "user": {
      "displayName": "Frédérique Rey",
      "userId": "07472968409980270201"
     },
     "user_tz": -60
    },
    "id": "9zK1RAqoWgd8",
    "outputId": "3af9d47c-b7ff-4974-fa53-2b07f69a3d86"
   },
   "outputs": [
    {
     "data": {
      "text/html": [
       "<table>\n",
       "    <thead>\n",
       "        <tr>\n",
       "            <th>A</th>\n",
       "            <th>B</th>\n",
       "        </tr>\n",
       "    </thead>\n",
       "    <tbody>\n",
       "        <tr>\n",
       "            <td>The</td>\n",
       "            <td>The</td>\n",
       "        </tr>\n",
       "        <tr>\n",
       "            <td>quick</td>\n",
       "            <td>-</td>\n",
       "        </tr>\n",
       "        <tr>\n",
       "            <td>brown fox jumps over<br>the</td>\n",
       "            <td>brown fox jumps over<br>the</td>\n",
       "        </tr>\n",
       "        <tr>\n",
       "            <td>-</td>\n",
       "            <td>lazy</td>\n",
       "        </tr>\n",
       "        <tr>\n",
       "            <td>dog.</td>\n",
       "            <td>dog.</td>\n",
       "        </tr>\n",
       "    </tbody>\n",
       "</table>"
      ],
      "text/plain": [
       "<IPython.core.display.HTML object>"
      ]
     },
     "metadata": {},
     "output_type": "display_data"
    }
   ],
   "source": [
    "alignment_table = collate(collation, output=\"html\", layout=\"vertical\")"
   ]
  }
 ],
 "metadata": {
  "colab": {
   "authorship_tag": "ABX9TyOaBQFiXGnmH/VMCOQmRQ2r",
   "provenance": [],
   "toc_visible": true
  },
  "kernelspec": {
   "display_name": "venv",
   "language": "python",
   "name": "python3"
  },
  "language_info": {
   "codemirror_mode": {
    "name": "ipython",
    "version": 3
   },
   "file_extension": ".py",
   "mimetype": "text/x-python",
   "name": "python",
   "nbconvert_exporter": "python",
   "pygments_lexer": "ipython3",
   "version": "3.13.0"
  }
 },
 "nbformat": 4,
 "nbformat_minor": 0
}
