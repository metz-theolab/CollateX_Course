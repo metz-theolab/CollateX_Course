{
 "cells": [
  {
   "cell_type": "markdown",
   "metadata": {},
   "source": [
    "#TP 3\n",
    "\n",
    "Let's now apply what we've seen to more complex datasets\n",
    "We proposed three different dataset:\n",
    "1. The Hebrew Text of Ben Sira\n",
    "2. The Greek New Testament of the prologue of John\n",
    "3. The Vetus Latina of John"
   ]
  },
  {
   "cell_type": "code",
   "execution_count": null,
   "metadata": {
    "vscode": {
     "languageId": "plaintext"
    }
   },
   "outputs": [],
   "source": []
  },
  {
   "cell_type": "markdown",
   "metadata": {},
   "source": []
  }
 ],
 "metadata": {
  "language_info": {
   "name": "python"
  }
 },
 "nbformat": 4,
 "nbformat_minor": 2
}
