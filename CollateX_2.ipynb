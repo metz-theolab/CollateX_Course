{
 "cells": [
  {
   "cell_type": "markdown",
   "metadata": {
    "id": "Ohrc7ew1ypbg"
   },
   "source": [
    "# TP 2\n",
    "\n",
    "First of all, install collatex and levenshtein packages in your python environment\n",
    "\n",
    "(For levenstein distance see: [wikipedia Levenshtein distance](https://en.wikipedia.org/wiki/Levenshtein_distance))"
   ]
  },
  {
   "cell_type": "code",
   "execution_count": null,
   "metadata": {
    "colab": {
     "base_uri": "https://localhost:8080/"
    },
    "executionInfo": {
     "elapsed": 23649,
     "status": "ok",
     "timestamp": 1735920245631,
     "user": {
      "displayName": "Frédérique Rey",
      "userId": "07472968409980270201"
     },
     "user_tz": -60
    },
    "id": "WFtHHBKOy0ph",
    "outputId": "c18f5004-a5d7-462d-9703-f0892d9818ab"
   },
   "outputs": [],
   "source": [
    "!pip install --upgrade collatex\n",
    "!pip install levenshtein"
   ]
  },
  {
   "cell_type": "markdown",
   "metadata": {
    "id": "4i74H_bmyxOw"
   },
   "source": [
    "Tell python you want to use collatex"
   ]
  },
  {
   "cell_type": "code",
   "execution_count": 2,
   "metadata": {
    "executionInfo": {
     "elapsed": 2530,
     "status": "ok",
     "timestamp": 1735920248158,
     "user": {
      "displayName": "Frédérique Rey",
      "userId": "07472968409980270201"
     },
     "user_tz": -60
    },
    "id": "iRUY5Ygw1ne8"
   },
   "outputs": [],
   "source": [
    "from collatex import *"
   ]
  },
  {
   "cell_type": "markdown",
   "metadata": {
    "id": "O7P4uX5I1p2i"
   },
   "source": [
    "Create an object that will contain you collation (`collation` is an arbitrary variable name)\n"
   ]
  },
  {
   "cell_type": "code",
   "execution_count": 3,
   "metadata": {
    "executionInfo": {
     "elapsed": 3,
     "status": "ok",
     "timestamp": 1735920248159,
     "user": {
      "displayName": "Frédérique Rey",
      "userId": "07472968409980270201"
     },
     "user_tz": -60
    },
    "id": "m9ueAnvM1wp6"
   },
   "outputs": [],
   "source": [
    "collation = Collation()"
   ]
  },
  {
   "cell_type": "markdown",
   "metadata": {
    "id": "zPzfvx8_4w-D"
   },
   "source": [
    "Add witnesses to you object `collation`"
   ]
  },
  {
   "cell_type": "code",
   "execution_count": 4,
   "metadata": {
    "executionInfo": {
     "elapsed": 3,
     "status": "ok",
     "timestamp": 1735920248159,
     "user": {
      "displayName": "Frédérique Rey",
      "userId": "07472968409980270201"
     },
     "user_tz": -60
    },
    "id": "dONn1_8R46T1"
   },
   "outputs": [],
   "source": [
    "collation.add_plain_witness( \"A\", \"The quick brown fox jumped over the lazy dog.\")\n",
    "collation.add_plain_witness( \"B\", \"The brown fox jumped over the dog.\" )\n",
    "collation.add_plain_witness( \"C\", \"The bad fox jumped over the lazy dog.\" )"
   ]
  },
  {
   "cell_type": "markdown",
   "metadata": {
    "id": "RneMDcIbK6_z"
   },
   "source": [
    "And now let collatex do the collation for you. We store the collation in the variable `alignment_table` and we just have to `print`the variable."
   ]
  },
  {
   "cell_type": "code",
   "execution_count": null,
   "metadata": {
    "colab": {
     "base_uri": "https://localhost:8080/"
    },
    "executionInfo": {
     "elapsed": 3,
     "status": "ok",
     "timestamp": 1735920248159,
     "user": {
      "displayName": "Frédérique Rey",
      "userId": "07472968409980270201"
     },
     "user_tz": -60
    },
    "id": "1_NY3c0RLWOv",
    "outputId": "84f15232-90d8-40b6-8196-bf473a9562b0"
   },
   "outputs": [],
   "source": [
    "alignment_table = collate(collation)\n",
    "print(alignment_table)"
   ]
  },
  {
   "cell_type": "markdown",
   "metadata": {
    "id": "3S_2Z6lDPKUX"
   },
   "source": [
    "The collate function take different arguments.\n",
    "\n",
    "# 1. Parameters"
   ]
  },
  {
   "cell_type": "markdown",
   "metadata": {
    "id": "cE4M96j2Hr1c"
   },
   "source": [
    "## 1.1. Segmentation\n",
    "The segmentation parameter determines whether each token is output separately (`False`) or whether the similar adjacent tokens are merged.\n",
    "\n",
    "In the preceding example, \"fox jumped over the\" are merged in a unique cell. To make the results easier to read, you may want to use just one word per cell.\n",
    "\n",
    "Let's try to add the parameter `segmentation=False`."
   ]
  },
  {
   "cell_type": "code",
   "execution_count": null,
   "metadata": {
    "colab": {
     "base_uri": "https://localhost:8080/"
    },
    "executionInfo": {
     "elapsed": 15,
     "status": "ok",
     "timestamp": 1735920248871,
     "user": {
      "displayName": "Frédérique Rey",
      "userId": "07472968409980270201"
     },
     "user_tz": -60
    },
    "id": "s13yyGGBRuN_",
    "outputId": "239efcbe-b164-44e7-d9d5-3248daf72afe"
   },
   "outputs": [],
   "source": [
    "alignment_table = collate(collation, segmentation=False)\n",
    "print(alignment_table)"
   ]
  },
  {
   "cell_type": "markdown",
   "metadata": {
    "id": "pzqAcReJ9hY8"
   },
   "source": [
    "## 1.2. Near Match\n",
    "The Near match parameter controls the behavior of CollateX Python in some situations where no exact alignment is possible because there is neither string-equality nor a forced-match environment.\n",
    "\n",
    "Consider:"
   ]
  },
  {
   "cell_type": "code",
   "execution_count": null,
   "metadata": {
    "colab": {
     "base_uri": "https://localhost:8080/"
    },
    "executionInfo": {
     "elapsed": 13,
     "status": "ok",
     "timestamp": 1735920248871,
     "user": {
      "displayName": "Frédérique Rey",
      "userId": "07472968409980270201"
     },
     "user_tz": -60
    },
    "id": "viu9weDn-EM0",
    "outputId": "3c32e0ae-1fe8-485f-e5aa-a2faf866d5b0"
   },
   "outputs": [],
   "source": [
    "collation = Collation()\n",
    "collation.add_plain_witness(\"A\", \"The big gray koala\")\n",
    "collation.add_plain_witness(\"B\", \"The grey koala\")\n",
    "alignment_table = collate(collation, segmentation=False)\n",
    "print(alignment_table)"
   ]
  },
  {
   "cell_type": "markdown",
   "metadata": {
    "id": "eKgEY6Px-LSo"
   },
   "source": [
    "Because “gray” and “grey” are not string-equal, CollateX Python does not know to align them, which means that it does not know whether “grey” in Witness B should be aligned with “big” or with “gray” in witness A. In situations like this, CollateX Python always chooses the leftmost option, which means that in this case it aligns “grey” with “big”, rather than with “gray”.\n",
    "\n",
    "Let's try now with the Near Match paramater on True:"
   ]
  },
  {
   "cell_type": "code",
   "execution_count": null,
   "metadata": {
    "colab": {
     "base_uri": "https://localhost:8080/"
    },
    "executionInfo": {
     "elapsed": 11,
     "status": "ok",
     "timestamp": 1735920248871,
     "user": {
      "displayName": "Frédérique Rey",
      "userId": "07472968409980270201"
     },
     "user_tz": -60
    },
    "id": "_TuUYkwp-mHL",
    "outputId": "811d5b15-19e0-4596-8f14-1b4bb6a5cfa8"
   },
   "outputs": [],
   "source": [
    "alignment_table = collate(collation, segmentation=False, near_match=True)\n",
    "print(alignment_table)"
   ]
  },
  {
   "cell_type": "markdown",
   "metadata": {
    "id": "babDvmQD-rVx"
   },
   "source": [
    "The \"closest\" alignement is defined in collatex on the basis of levenshtein distance (i.e. the number of modification you need to transform a word_1 into a word_2)"
   ]
  },
  {
   "cell_type": "markdown",
   "metadata": {
    "id": "kRRjGiEcMiiG"
   },
   "source": [
    "## 1.3. Layout\n",
    "The `layout` parameter allow you to chose between `vertical` or `horizontal` alignment.\n",
    "\n",
    "Try to display the above alignment table verticaly."
   ]
  },
  {
   "cell_type": "code",
   "execution_count": null,
   "metadata": {
    "colab": {
     "base_uri": "https://localhost:8080/"
    },
    "executionInfo": {
     "elapsed": 9,
     "status": "ok",
     "timestamp": 1735920248871,
     "user": {
      "displayName": "Frédérique Rey",
      "userId": "07472968409980270201"
     },
     "user_tz": -60
    },
    "id": "A07AZlL29Zy3",
    "outputId": "77939cf9-b22d-430e-f8f4-bb31dde29138"
   },
   "outputs": [],
   "source": []
  },
  {
   "cell_type": "markdown",
   "metadata": {
    "id": "9dxZJL8SAG9j"
   },
   "source": [
    "## 1.4. Output\n",
    "Now let's look at the different output options for your table.\n",
    "By default, CollateX outputs an ASCII table.\n",
    "\n",
    "### 1.4.1. html\n",
    "1. Create an object `Collation()`\n",
    "2. add the three following manuscripts:\n",
    "\n",
    "`\"MS_A\", \"The quick brown fox jumped over the lazy dog.\"`\n",
    "\n",
    "`\"MS_B\", \"The brown fox jumped over the dog.\"`\n",
    "\n",
    "`\"MS_C\", \"The bad fox jumped over the lazy dog.\"`\n",
    "\n",
    "3. Export your collation with and `output` parameter define as `html`"
   ]
  },
  {
   "cell_type": "code",
   "execution_count": null,
   "metadata": {
    "colab": {
     "base_uri": "https://localhost:8080/",
     "height": 254
    },
    "executionInfo": {
     "elapsed": 8,
     "status": "ok",
     "timestamp": 1735920248871,
     "user": {
      "displayName": "Frédérique Rey",
      "userId": "07472968409980270201"
     },
     "user_tz": -60
    },
    "id": "Kk5E6-cACo4X",
    "outputId": "25934fab-95b2-40e0-8aef-d01aa470237d"
   },
   "outputs": [],
   "source": []
  },
  {
   "cell_type": "markdown",
   "metadata": {
    "id": "MDVfM13rCzic"
   },
   "source": [
    "the `html2` provide a more readable output with colored lines (cyan = same, red = variant)"
   ]
  },
  {
   "cell_type": "code",
   "execution_count": null,
   "metadata": {
    "colab": {
     "base_uri": "https://localhost:8080/",
     "height": 308
    },
    "executionInfo": {
     "elapsed": 7,
     "status": "ok",
     "timestamp": 1735920248871,
     "user": {
      "displayName": "Frédérique Rey",
      "userId": "07472968409980270201"
     },
     "user_tz": -60
    },
    "id": "_9K-HertDXlF",
    "outputId": "455b0c81-23eb-4343-e652-8b7ea84a10d2"
   },
   "outputs": [],
   "source": []
  },
  {
   "cell_type": "markdown",
   "metadata": {
    "id": "x3leoqwNDXin"
   },
   "source": [
    "### 1.4.2. Graph\n",
    "Your result may also be displayed as a beautiful graph with the two parameters `svg` and `svg_simple`.\n",
    "\n",
    "Try both of them"
   ]
  },
  {
   "cell_type": "code",
   "execution_count": null,
   "metadata": {
    "colab": {
     "base_uri": "https://localhost:8080/",
     "height": 240
    },
    "executionInfo": {
     "elapsed": 6,
     "status": "ok",
     "timestamp": 1735920248871,
     "user": {
      "displayName": "Frédérique Rey",
      "userId": "07472968409980270201"
     },
     "user_tz": -60
    },
    "id": "R5x6qm9fDXeb",
    "outputId": "cdd9b732-835d-4cf8-98e5-d67beee76a38"
   },
   "outputs": [],
   "source": []
  },
  {
   "cell_type": "markdown",
   "metadata": {
    "id": "qb0rStYMFJDI"
   },
   "source": [
    "### 1.4.3. csv\n",
    "You may want to have it ready in exploitable datas like `csv`, `xml-tei`or `json` to compute them in a more complex workflow, for example, to import your results in excell, or to add lemmatization and morphological analysis using `spacy` or `bert` model or just to open your enormous table into excel or google sheet.\n",
    "\n",
    "Try now the `output='csv'` parameter"
   ]
  },
  {
   "cell_type": "code",
   "execution_count": null,
   "metadata": {
    "colab": {
     "base_uri": "https://localhost:8080/"
    },
    "executionInfo": {
     "elapsed": 238,
     "status": "ok",
     "timestamp": 1735920664714,
     "user": {
      "displayName": "Frédérique Rey",
      "userId": "07472968409980270201"
     },
     "user_tz": -60
    },
    "id": "Sr9ZsWOsGKhv",
    "outputId": "5959e94b-ce04-4358-b30e-ae78dbae3809"
   },
   "outputs": [],
   "source": []
  },
  {
   "cell_type": "markdown",
   "metadata": {
    "id": "eDFlBXGw8sk8"
   },
   "source": [
    "Enregistrer le fichier csv sur votre disque"
   ]
  },
  {
   "cell_type": "code",
   "execution_count": 16,
   "metadata": {
    "executionInfo": {
     "elapsed": 246,
     "status": "ok",
     "timestamp": 1735920931673,
     "user": {
      "displayName": "Frédérique Rey",
      "userId": "07472968409980270201"
     },
     "user_tz": -60
    },
    "id": "2zon_fX5G73N"
   },
   "outputs": [],
   "source": [
    "# Save the CSV string to a file\n",
    "with open('alignment_table.csv', 'w') as f:\n",
    "  f.write(alignment_table)"
   ]
  },
  {
   "cell_type": "markdown",
   "metadata": {
    "id": "xNM6MGeq81EM"
   },
   "source": [
    "### 1.4.4. XML / XML TEI\n",
    "you may also want to export the result in XML"
   ]
  },
  {
   "cell_type": "code",
   "execution_count": null,
   "metadata": {
    "colab": {
     "base_uri": "https://localhost:8080/"
    },
    "executionInfo": {
     "elapsed": 164,
     "status": "ok",
     "timestamp": 1735926238333,
     "user": {
      "displayName": "Frédérique Rey",
      "userId": "07472968409980270201"
     },
     "user_tz": -60
    },
    "id": "lMUCQv0TAyk4",
    "outputId": "463bec73-13c5-49c1-fb86-25297a8bc5cf"
   },
   "outputs": [],
   "source": []
  },
  {
   "cell_type": "markdown",
   "metadata": {
    "id": "QQzgqeguA1bw"
   },
   "source": [
    "(to beautifully display your xml, you may use beautifulsoup...)"
   ]
  },
  {
   "cell_type": "code",
   "execution_count": null,
   "metadata": {
    "colab": {
     "base_uri": "https://localhost:8080/"
    },
    "executionInfo": {
     "elapsed": 206,
     "status": "ok",
     "timestamp": 1735922432979,
     "user": {
      "displayName": "Frédérique Rey",
      "userId": "07472968409980270201"
     },
     "user_tz": -60
    },
    "id": "ZT91ARaNBi0u",
    "outputId": "fbda0026-621e-481b-8df9-5e27eee64172"
   },
   "outputs": [],
   "source": [
    "from bs4 import BeautifulSoup\n",
    "\n",
    "bs = BeautifulSoup(alignment_table, 'xml')\n",
    "print(bs.prettify())\n"
   ]
  },
  {
   "cell_type": "markdown",
   "metadata": {
    "id": "R2It2CunBuDZ"
   },
   "source": [
    "Et hop! Votre apparat critique en XML TEI est fait sans noeuds au cerveau :-)"
   ]
  },
  {
   "cell_type": "markdown",
   "metadata": {
    "id": "vXjnddh8C39H"
   },
   "source": [
    "### 1.4.5. JSON\n",
    "And finally you can also export your allignment table into JSON format. This is the most complete output format, and therefore a common choice for subsequent preprocessing."
   ]
  },
  {
   "cell_type": "code",
   "execution_count": null,
   "metadata": {
    "colab": {
     "base_uri": "https://localhost:8080/"
    },
    "executionInfo": {
     "elapsed": 186,
     "status": "ok",
     "timestamp": 1735925769595,
     "user": {
      "displayName": "Frédérique Rey",
      "userId": "07472968409980270201"
     },
     "user_tz": -60
    },
    "id": "loJWD_oyPPAg",
    "outputId": "8e099bba-67bc-4a95-de5a-302a1730f100"
   },
   "outputs": [],
   "source": []
  },
  {
   "cell_type": "markdown",
   "metadata": {},
   "source": [
    "To have a beautiful display of your `json` execute the next cell"
   ]
  },
  {
   "cell_type": "code",
   "execution_count": null,
   "metadata": {
    "colab": {
     "base_uri": "https://localhost:8080/"
    },
    "executionInfo": {
     "elapsed": 193,
     "status": "ok",
     "timestamp": 1735925938673,
     "user": {
      "displayName": "Frédérique Rey",
      "userId": "07472968409980270201"
     },
     "user_tz": -60
    },
    "id": "uh3AmOxjPSG2",
    "outputId": "68856248-20ad-4a86-c321-44d1714bbb1e"
   },
   "outputs": [],
   "source": [
    "import json\n",
    "parsed = json.loads(alignment_table)\n",
    "print(json.dumps(parsed, indent=4))\n"
   ]
  },
  {
   "cell_type": "markdown",
   "metadata": {
    "id": "EdVrKAUOPYKu"
   },
   "source": []
  }
 ],
 "metadata": {
  "colab": {
   "authorship_tag": "ABX9TyN02pc4RWg+Z3VXWQiyOsUA",
   "mount_file_id": "1x_9XYMxZ4ZZv2SZEamoKivQubHnXnAs9",
   "provenance": [],
   "toc_visible": true
  },
  "kernelspec": {
   "display_name": "venv",
   "language": "python",
   "name": "python3"
  },
  "language_info": {
   "codemirror_mode": {
    "name": "ipython",
    "version": 3
   },
   "file_extension": ".py",
   "mimetype": "text/x-python",
   "name": "python",
   "nbconvert_exporter": "python",
   "pygments_lexer": "ipython3",
   "version": "3.13.0"
  }
 },
 "nbformat": 4,
 "nbformat_minor": 0
}
